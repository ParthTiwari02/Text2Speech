{
 "cells": [
  {
   "cell_type": "code",
   "execution_count": null,
   "id": "c7c2166a",
   "metadata": {},
   "outputs": [],
   "source": [
    "from flask import Flask, request, jsonify,render_template\n",
    "import os\n",
    "from flask_cors import CORS, cross_origin\n",
    "\n",
    "import Text2Speech\n",
    "from translator import translation\n",
    "\n",
    "os.putenv('LANG', 'en_US.UTF-8')\n",
    "os.putenv('LC_ALL', 'en_US.UTF-8')\n",
    "\n",
    "app = Flask(__name__)\n",
    "CORS(app)\n",
    "\n",
    "@app.route(\"/\", methods=['GET'])\n",
    "@cross_origin()\n",
    "def home():\n",
    "    return render_template('index.html')\n",
    "\n",
    "@app.route(\"/predict\", methods=['POST'])\n",
    "@cross_origin()\n",
    "def predictRoute():\n",
    "    data = request.json['data']\n",
    "    result = Text2Speech.text2Speech(data)\n",
    "    return {\"data\" : result.decode(\"utf-8\")}\n",
    "\n",
    "\n",
    "\n",
    "\n",
    "#port = int(os.getenv(\"PORT\"))\n",
    "if __name__ == \"__main__\":\n",
    "    #app.run(host='0.0.0.0', port=port)\n",
    "    app.run(host='0.0.0.0', port=5000, debug=True)\n",
    "\n",
    "\n"
   ]
  },
  {
   "cell_type": "code",
   "execution_count": null,
   "id": "fac7c462",
   "metadata": {},
   "outputs": [],
   "source": [
    "from gtts import gTTS\n",
    "import base64\n",
    "\n",
    "\n",
    "def text2Speech(data):\n",
    "    my_text = data\n",
    "    tts = gTTS(text=my_text, lang='en', slow=False)\n",
    "    tts.save('converted-file.mp3')  # save file as ... (here saving as mp3)\n",
    "    with open(\"converted-file.mp3\", \"rb\") as file:\n",
    "        my_string = base64.b64encode(file.read())\n",
    "    return my_string"
   ]
  }
 ],
 "metadata": {
  "kernelspec": {
   "display_name": "Python 3",
   "language": "python",
   "name": "python3"
  },
  "language_info": {
   "codemirror_mode": {
    "name": "ipython",
    "version": 3
   },
   "file_extension": ".py",
   "mimetype": "text/x-python",
   "name": "python",
   "nbconvert_exporter": "python",
   "pygments_lexer": "ipython3",
   "version": "3.8.8"
  }
 },
 "nbformat": 4,
 "nbformat_minor": 5
}
